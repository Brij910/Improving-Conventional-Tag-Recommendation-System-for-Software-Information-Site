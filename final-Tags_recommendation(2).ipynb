{
 "cells": [
  {
   "cell_type": "markdown",
   "metadata": {},
   "source": [
    "### Import Libraries"
   ]
  },
  {
   "cell_type": "code",
   "execution_count": 1,
   "metadata": {},
   "outputs": [
    {
     "name": "stderr",
     "output_type": "stream",
     "text": [
      "c:\\python36\\lib\\site-packages\\requests\\__init__.py:91: RequestsDependencyWarning: urllib3 (1.25.6) or chardet (3.0.4) doesn't match a supported version!\n",
      "  RequestsDependencyWarning)\n"
     ]
    }
   ],
   "source": [
    "import pickle\n",
    "import seaborn as sns\n",
    "import pandas as pd\n",
    "import itertools\n",
    "import numpy as np\n",
    "import re, nltk, spacy, gensim\n",
    "import matplotlib.pyplot as plt\n",
    "import warnings\n",
    "warnings.filterwarnings('ignore')\n",
    "from bs4 import BeautifulSoup\n",
    "from sklearn.feature_extraction.text import TfidfVectorizer, CountVectorizer\n",
    "from sklearn.decomposition import LatentDirichletAllocation\n",
    "from sklearn.dummy import DummyClassifier\n",
    "from sklearn.ensemble import RandomForestClassifier\n",
    "from sklearn.metrics import jaccard_score, make_scorer, confusion_matrix\n",
    "from sklearn.model_selection import RandomizedSearchCV, GridSearchCV, cross_val_score, KFold, train_test_split\n",
    "from sklearn.multiclass import OneVsRestClassifier\n",
    "from sklearn.preprocessing import MultiLabelBinarizer, StandardScaler\n",
    "from sklearn.svm import LinearSVC\n",
    "from matplotlib.collections import LineCollection\n",
    "from nltk.tokenize import ToktokTokenizer\n",
    "from nltk.stem import wordnet\n",
    "from nltk.corpus import stopwords\n",
    "from string import punctuation"
   ]
  },
  {
   "cell_type": "markdown",
   "metadata": {},
   "source": [
    "### Wordnet & stopwords"
   ]
  },
  {
   "cell_type": "code",
   "execution_count": 2,
   "metadata": {},
   "outputs": [
    {
     "name": "stderr",
     "output_type": "stream",
     "text": [
      "[nltk_data] Downloading package stopwords to\n",
      "[nltk_data]     C:\\Users\\SRKT\\AppData\\Roaming\\nltk_data...\n",
      "[nltk_data]   Package stopwords is already up-to-date!\n",
      "[nltk_data] Downloading package wordnet to\n",
      "[nltk_data]     C:\\Users\\SRKT\\AppData\\Roaming\\nltk_data...\n",
      "[nltk_data]   Package wordnet is already up-to-date!\n"
     ]
    },
    {
     "data": {
      "text/plain": [
       "True"
      ]
     },
     "execution_count": 2,
     "metadata": {},
     "output_type": "execute_result"
    }
   ],
   "source": [
    "nltk.download(\"stopwords\")\n",
    "nltk.download(\"wordnet\")"
   ]
  },
  {
   "cell_type": "markdown",
   "metadata": {},
   "source": [
    "### Read Dataset"
   ]
  },
  {
   "cell_type": "code",
   "execution_count": 3,
   "metadata": {},
   "outputs": [],
   "source": [
    "df  = pd.read_csv(r\"C:\\Users\\SRKT\\Downloads\\SE-Dataset.csv\")"
   ]
  },
  {
   "cell_type": "code",
   "execution_count": 90,
   "metadata": {},
   "outputs": [
    {
     "data": {
      "text/html": [
       "<div>\n",
       "<style scoped>\n",
       "    .dataframe tbody tr th:only-of-type {\n",
       "        vertical-align: middle;\n",
       "    }\n",
       "\n",
       "    .dataframe tbody tr th {\n",
       "        vertical-align: top;\n",
       "    }\n",
       "\n",
       "    .dataframe thead th {\n",
       "        text-align: right;\n",
       "    }\n",
       "</style>\n",
       "<table border=\"1\" class=\"dataframe\">\n",
       "  <thead>\n",
       "    <tr style=\"text-align: right;\">\n",
       "      <th></th>\n",
       "      <th>Body</th>\n",
       "      <th>Tags</th>\n",
       "    </tr>\n",
       "  </thead>\n",
       "  <tbody>\n",
       "    <tr>\n",
       "      <th>0</th>\n",
       "      <td>work java webapplication application user xlsp...</td>\n",
       "      <td>[java, architecture, performance]</td>\n",
       "    </tr>\n",
       "    <tr>\n",
       "      <th>1</th>\n",
       "      <td>firstly software engineering question question...</td>\n",
       "      <td>[design-patterns, python, object-oriented-design]</td>\n",
       "    </tr>\n",
       "    <tr>\n",
       "      <th>2</th>\n",
       "      <td>programmer document codesystem uml especially ...</td>\n",
       "      <td>[design, development-process, programming-prac...</td>\n",
       "    </tr>\n",
       "    <tr>\n",
       "      <th>3</th>\n",
       "      <td>subproject github repo convenience user actual...</td>\n",
       "      <td>[licensing, github]</td>\n",
       "    </tr>\n",
       "    <tr>\n",
       "      <th>4</th>\n",
       "      <td>point much solid htmlcss js programmer pick pr...</td>\n",
       "      <td>[web, file-handling, storage]</td>\n",
       "    </tr>\n",
       "  </tbody>\n",
       "</table>\n",
       "</div>"
      ],
      "text/plain": [
       "                                                Body  \\\n",
       "0  work java webapplication application user xlsp...   \n",
       "1  firstly software engineering question question...   \n",
       "2  programmer document codesystem uml especially ...   \n",
       "3  subproject github repo convenience user actual...   \n",
       "4  point much solid htmlcss js programmer pick pr...   \n",
       "\n",
       "                                                Tags  \n",
       "0                  [java, architecture, performance]  \n",
       "1  [design-patterns, python, object-oriented-design]  \n",
       "2  [design, development-process, programming-prac...  \n",
       "3                                [licensing, github]  \n",
       "4                      [web, file-handling, storage]  "
      ]
     },
     "execution_count": 90,
     "metadata": {},
     "output_type": "execute_result"
    }
   ],
   "source": [
    "df.head()"
   ]
  },
  {
   "cell_type": "code",
   "execution_count": 91,
   "metadata": {},
   "outputs": [
    {
     "data": {
      "text/html": [
       "<div>\n",
       "<style scoped>\n",
       "    .dataframe tbody tr th:only-of-type {\n",
       "        vertical-align: middle;\n",
       "    }\n",
       "\n",
       "    .dataframe tbody tr th {\n",
       "        vertical-align: top;\n",
       "    }\n",
       "\n",
       "    .dataframe thead th {\n",
       "        text-align: right;\n",
       "    }\n",
       "</style>\n",
       "<table border=\"1\" class=\"dataframe\">\n",
       "  <thead>\n",
       "    <tr style=\"text-align: right;\">\n",
       "      <th></th>\n",
       "      <th>Body</th>\n",
       "      <th>Tags</th>\n",
       "    </tr>\n",
       "  </thead>\n",
       "  <tbody>\n",
       "    <tr>\n",
       "      <th>0</th>\n",
       "      <td>work java webapplication application user xlsp...</td>\n",
       "      <td>[java, architecture, performance]</td>\n",
       "    </tr>\n",
       "    <tr>\n",
       "      <th>1</th>\n",
       "      <td>firstly software engineering question question...</td>\n",
       "      <td>[design-patterns, python, object-oriented-design]</td>\n",
       "    </tr>\n",
       "    <tr>\n",
       "      <th>2</th>\n",
       "      <td>programmer document codesystem uml especially ...</td>\n",
       "      <td>[design, development-process, programming-prac...</td>\n",
       "    </tr>\n",
       "    <tr>\n",
       "      <th>3</th>\n",
       "      <td>subproject github repo convenience user actual...</td>\n",
       "      <td>[licensing, github]</td>\n",
       "    </tr>\n",
       "    <tr>\n",
       "      <th>4</th>\n",
       "      <td>point much solid htmlcss js programmer pick pr...</td>\n",
       "      <td>[web, file-handling, storage]</td>\n",
       "    </tr>\n",
       "  </tbody>\n",
       "</table>\n",
       "</div>"
      ],
      "text/plain": [
       "                                                Body  \\\n",
       "0  work java webapplication application user xlsp...   \n",
       "1  firstly software engineering question question...   \n",
       "2  programmer document codesystem uml especially ...   \n",
       "3  subproject github repo convenience user actual...   \n",
       "4  point much solid htmlcss js programmer pick pr...   \n",
       "\n",
       "                                                Tags  \n",
       "0                  [java, architecture, performance]  \n",
       "1  [design-patterns, python, object-oriented-design]  \n",
       "2  [design, development-process, programming-prac...  \n",
       "3                                [licensing, github]  \n",
       "4                      [web, file-handling, storage]  "
      ]
     },
     "execution_count": 91,
     "metadata": {},
     "output_type": "execute_result"
    }
   ],
   "source": [
    "df  = df.iloc[:,-2:]\n",
    "df.head()"
   ]
  },
  {
   "cell_type": "markdown",
   "metadata": {},
   "source": [
    "### Count total number of tags"
   ]
  },
  {
   "cell_type": "code",
   "execution_count": 6,
   "metadata": {},
   "outputs": [],
   "source": [
    "def Total_tag(data, reference_col, all_Words): \n",
    "\n",
    "    count_k = dict()\n",
    "    index = -1\n",
    "    \n",
    "    for s in all_Words: \n",
    "        count_k[s] = []\n",
    "        count_k[s].append(0)\n",
    "        count_k[s].append(0)\n",
    "        \n",
    "    for all_keywords in data[reference_col].str.split('>'): \n",
    "        \n",
    "        if type(all_keywords) == float and pd.isnull(all_keywords): \n",
    "            continue\n",
    "        \n",
    "        index += 1\n",
    "            \n",
    "        for s in [s for s in all_keywords if s in all_Words]: \n",
    "            if pd.notnull(s):\n",
    "                count_k[s][0] += 1\n",
    "                    \n",
    "    word_occurence = []\n",
    "    \n",
    "    for tag, item in count_k.items():\n",
    "        word_occurence.append([tag[1:], item[0], item[1]/item[0]])\n",
    "        \n",
    "    word_occurence.sort(key = lambda x:x[1], reverse = True)\n",
    "    \n",
    "    return word_occurence"
   ]
  },
  {
   "cell_type": "markdown",
   "metadata": {},
   "source": [
    "### Making list for different tags"
   ]
  },
  {
   "cell_type": "code",
   "execution_count": 7,
   "metadata": {},
   "outputs": [
    {
     "name": "stdout",
     "output_type": "stream",
     "text": [
      "There are 1614 tags\n"
     ]
    }
   ],
   "source": [
    "tag_add = set()\n",
    "scoring = list()\n",
    "\n",
    "for all_keywords in df['Tags'].str.split('>').values:\n",
    "    \n",
    "    if isinstance(all_keywords, float): \n",
    "        continue \n",
    "    tag_add = tag_add.union(all_keywords)    \n",
    "print('There are %d tags' % len(tag_add))"
   ]
  },
  {
   "cell_type": "markdown",
   "metadata": {},
   "source": [
    "### Most Common Tags"
   ]
  },
  {
   "cell_type": "code",
   "execution_count": 9,
   "metadata": {},
   "outputs": [],
   "source": [
    "word_occurence = Total_tag(df, 'Tags', tag_add)\n",
    "temp_occure = word_occurence[1:401]\n",
    "top_tags = [i[0] for i in temp_occure]\n",
    "\n",
    "def common_tag(tags):\n",
    "    clean_tags = str(tags).split('>')[:-1]\n",
    "    filtered_tags = []\n",
    "    \n",
    "    for tag in clean_tags:\n",
    "        \n",
    "        if tag[1:] in top_tags:\n",
    "            filtered_tags.append(tag[1:])\n",
    "            \n",
    "    return filtered_tags"
   ]
  },
  {
   "cell_type": "markdown",
   "metadata": {},
   "source": [
    "### Apply methods for tags"
   ]
  },
  {
   "cell_type": "code",
   "execution_count": 10,
   "metadata": {},
   "outputs": [],
   "source": [
    "df['Tags'] = df['Tags'].apply(lambda x: common_tag(x))\n",
    "df['Tags'] = df['Tags'].apply(lambda x: x if len(x)>0 else None)"
   ]
  },
  {
   "cell_type": "code",
   "execution_count": 11,
   "metadata": {},
   "outputs": [
    {
     "data": {
      "text/html": [
       "<div>\n",
       "<style scoped>\n",
       "    .dataframe tbody tr th:only-of-type {\n",
       "        vertical-align: middle;\n",
       "    }\n",
       "\n",
       "    .dataframe tbody tr th {\n",
       "        vertical-align: top;\n",
       "    }\n",
       "\n",
       "    .dataframe thead th {\n",
       "        text-align: right;\n",
       "    }\n",
       "</style>\n",
       "<table border=\"1\" class=\"dataframe\">\n",
       "  <thead>\n",
       "    <tr style=\"text-align: right;\">\n",
       "      <th></th>\n",
       "      <th>Body</th>\n",
       "      <th>Tags</th>\n",
       "    </tr>\n",
       "  </thead>\n",
       "  <tbody>\n",
       "    <tr>\n",
       "      <th>0</th>\n",
       "      <td>&lt;p&gt;I work on a java web-application.\\nIn this ...</td>\n",
       "      <td>[java, architecture, performance]</td>\n",
       "    </tr>\n",
       "    <tr>\n",
       "      <th>1</th>\n",
       "      <td>&lt;p&gt;&lt;em&gt;Firstly I am new to Software Engineerin...</td>\n",
       "      <td>[design-patterns, python, object-oriented-design]</td>\n",
       "    </tr>\n",
       "    <tr>\n",
       "      <th>2</th>\n",
       "      <td>&lt;p&gt;As much as programmers hate to document the...</td>\n",
       "      <td>[design, development-process, programming-prac...</td>\n",
       "    </tr>\n",
       "    <tr>\n",
       "      <th>3</th>\n",
       "      <td>&lt;p&gt;I want to gather several sub-projects in a ...</td>\n",
       "      <td>[licensing, github]</td>\n",
       "    </tr>\n",
       "    <tr>\n",
       "      <th>4</th>\n",
       "      <td>&lt;p&gt;At this point, I'm not much of a programmer...</td>\n",
       "      <td>[web, file-handling, storage]</td>\n",
       "    </tr>\n",
       "    <tr>\n",
       "      <th>...</th>\n",
       "      <td>...</td>\n",
       "      <td>...</td>\n",
       "    </tr>\n",
       "    <tr>\n",
       "      <th>29995</th>\n",
       "      <td>&lt;p&gt;I have a web service with the methods &lt;code...</td>\n",
       "      <td>[c#, naming, web-services]</td>\n",
       "    </tr>\n",
       "    <tr>\n",
       "      <th>29996</th>\n",
       "      <td>&lt;p&gt;I'm producing a binary distributable for my...</td>\n",
       "      <td>[java, licensing, mit-license, maven, apache-l...</td>\n",
       "    </tr>\n",
       "    <tr>\n",
       "      <th>29997</th>\n",
       "      <td>&lt;p&gt;Now this question might sound (/ is) stupid...</td>\n",
       "      <td>[graphics]</td>\n",
       "    </tr>\n",
       "    <tr>\n",
       "      <th>29998</th>\n",
       "      <td>&lt;p&gt;In a website users can register through dif...</td>\n",
       "      <td>[design-patterns, database-design]</td>\n",
       "    </tr>\n",
       "    <tr>\n",
       "      <th>29999</th>\n",
       "      <td>&lt;p&gt;Recently my Scrum team has received several...</td>\n",
       "      <td>[scrum, optimization, user-story]</td>\n",
       "    </tr>\n",
       "  </tbody>\n",
       "</table>\n",
       "<p>30000 rows × 2 columns</p>\n",
       "</div>"
      ],
      "text/plain": [
       "                                                    Body  \\\n",
       "0      <p>I work on a java web-application.\\nIn this ...   \n",
       "1      <p><em>Firstly I am new to Software Engineerin...   \n",
       "2      <p>As much as programmers hate to document the...   \n",
       "3      <p>I want to gather several sub-projects in a ...   \n",
       "4      <p>At this point, I'm not much of a programmer...   \n",
       "...                                                  ...   \n",
       "29995  <p>I have a web service with the methods <code...   \n",
       "29996  <p>I'm producing a binary distributable for my...   \n",
       "29997  <p>Now this question might sound (/ is) stupid...   \n",
       "29998  <p>In a website users can register through dif...   \n",
       "29999  <p>Recently my Scrum team has received several...   \n",
       "\n",
       "                                                    Tags  \n",
       "0                      [java, architecture, performance]  \n",
       "1      [design-patterns, python, object-oriented-design]  \n",
       "2      [design, development-process, programming-prac...  \n",
       "3                                    [licensing, github]  \n",
       "4                          [web, file-handling, storage]  \n",
       "...                                                  ...  \n",
       "29995                         [c#, naming, web-services]  \n",
       "29996  [java, licensing, mit-license, maven, apache-l...  \n",
       "29997                                         [graphics]  \n",
       "29998                 [design-patterns, database-design]  \n",
       "29999                  [scrum, optimization, user-story]  \n",
       "\n",
       "[30000 rows x 2 columns]"
      ]
     },
     "execution_count": 11,
     "metadata": {},
     "output_type": "execute_result"
    }
   ],
   "source": [
    "df"
   ]
  },
  {
   "cell_type": "code",
   "execution_count": 12,
   "metadata": {},
   "outputs": [
    {
     "data": {
      "text/plain": [
       "(29113, 2)"
      ]
     },
     "execution_count": 12,
     "metadata": {},
     "output_type": "execute_result"
    }
   ],
   "source": [
    "df.dropna(subset=['Tags'], inplace=True)\n",
    "df.shape"
   ]
  },
  {
   "cell_type": "code",
   "execution_count": 13,
   "metadata": {},
   "outputs": [
    {
     "data": {
      "text/html": [
       "<div>\n",
       "<style scoped>\n",
       "    .dataframe tbody tr th:only-of-type {\n",
       "        vertical-align: middle;\n",
       "    }\n",
       "\n",
       "    .dataframe tbody tr th {\n",
       "        vertical-align: top;\n",
       "    }\n",
       "\n",
       "    .dataframe thead th {\n",
       "        text-align: right;\n",
       "    }\n",
       "</style>\n",
       "<table border=\"1\" class=\"dataframe\">\n",
       "  <thead>\n",
       "    <tr style=\"text-align: right;\">\n",
       "      <th></th>\n",
       "      <th>Body</th>\n",
       "      <th>Tags</th>\n",
       "    </tr>\n",
       "  </thead>\n",
       "  <tbody>\n",
       "    <tr>\n",
       "      <th>0</th>\n",
       "      <td>&lt;p&gt;I work on a java web-application.\\nIn this ...</td>\n",
       "      <td>[java, architecture, performance]</td>\n",
       "    </tr>\n",
       "    <tr>\n",
       "      <th>1</th>\n",
       "      <td>&lt;p&gt;&lt;em&gt;Firstly I am new to Software Engineerin...</td>\n",
       "      <td>[design-patterns, python, object-oriented-design]</td>\n",
       "    </tr>\n",
       "    <tr>\n",
       "      <th>2</th>\n",
       "      <td>&lt;p&gt;As much as programmers hate to document the...</td>\n",
       "      <td>[design, development-process, programming-prac...</td>\n",
       "    </tr>\n",
       "    <tr>\n",
       "      <th>3</th>\n",
       "      <td>&lt;p&gt;I want to gather several sub-projects in a ...</td>\n",
       "      <td>[licensing, github]</td>\n",
       "    </tr>\n",
       "    <tr>\n",
       "      <th>4</th>\n",
       "      <td>&lt;p&gt;At this point, I'm not much of a programmer...</td>\n",
       "      <td>[web, file-handling, storage]</td>\n",
       "    </tr>\n",
       "  </tbody>\n",
       "</table>\n",
       "</div>"
      ],
      "text/plain": [
       "                                                Body  \\\n",
       "0  <p>I work on a java web-application.\\nIn this ...   \n",
       "1  <p><em>Firstly I am new to Software Engineerin...   \n",
       "2  <p>As much as programmers hate to document the...   \n",
       "3  <p>I want to gather several sub-projects in a ...   \n",
       "4  <p>At this point, I'm not much of a programmer...   \n",
       "\n",
       "                                                Tags  \n",
       "0                  [java, architecture, performance]  \n",
       "1  [design-patterns, python, object-oriented-design]  \n",
       "2  [design, development-process, programming-prac...  \n",
       "3                                [licensing, github]  \n",
       "4                      [web, file-handling, storage]  "
      ]
     },
     "execution_count": 13,
     "metadata": {},
     "output_type": "execute_result"
    }
   ],
   "source": [
    "df.head()"
   ]
  },
  {
   "cell_type": "markdown",
   "metadata": {},
   "source": [
    "### Pre-processing Data"
   ]
  },
  {
   "cell_type": "code",
   "execution_count": 14,
   "metadata": {},
   "outputs": [],
   "source": [
    "def data_clean(text):\n",
    " \n",
    "    text = text.lower()\n",
    "    text = re.sub(r\"\\'\\n\", \" \", text)\n",
    "    text = re.sub(r\"\\'\\xa0\", \" \", text)\n",
    "    text = re.sub('\\s+', ' ', text)\n",
    "    text = text.strip(' ')\n",
    "    return text"
   ]
  },
  {
   "cell_type": "code",
   "execution_count": 15,
   "metadata": {},
   "outputs": [],
   "source": [
    "df['Body'] = df['Body'].apply(lambda x: data_clean(x))"
   ]
  },
  {
   "cell_type": "code",
   "execution_count": 16,
   "metadata": {},
   "outputs": [
    {
     "data": {
      "text/html": [
       "<div>\n",
       "<style scoped>\n",
       "    .dataframe tbody tr th:only-of-type {\n",
       "        vertical-align: middle;\n",
       "    }\n",
       "\n",
       "    .dataframe tbody tr th {\n",
       "        vertical-align: top;\n",
       "    }\n",
       "\n",
       "    .dataframe thead th {\n",
       "        text-align: right;\n",
       "    }\n",
       "</style>\n",
       "<table border=\"1\" class=\"dataframe\">\n",
       "  <thead>\n",
       "    <tr style=\"text-align: right;\">\n",
       "      <th></th>\n",
       "      <th>Body</th>\n",
       "      <th>Tags</th>\n",
       "    </tr>\n",
       "  </thead>\n",
       "  <tbody>\n",
       "    <tr>\n",
       "      <th>0</th>\n",
       "      <td>&lt;p&gt;i work on a java web-application. in this a...</td>\n",
       "      <td>[java, architecture, performance]</td>\n",
       "    </tr>\n",
       "    <tr>\n",
       "      <th>1</th>\n",
       "      <td>&lt;p&gt;&lt;em&gt;firstly i am new to software engineerin...</td>\n",
       "      <td>[design-patterns, python, object-oriented-design]</td>\n",
       "    </tr>\n",
       "    <tr>\n",
       "      <th>2</th>\n",
       "      <td>&lt;p&gt;as much as programmers hate to document the...</td>\n",
       "      <td>[design, development-process, programming-prac...</td>\n",
       "    </tr>\n",
       "    <tr>\n",
       "      <th>3</th>\n",
       "      <td>&lt;p&gt;i want to gather several sub-projects in a ...</td>\n",
       "      <td>[licensing, github]</td>\n",
       "    </tr>\n",
       "    <tr>\n",
       "      <th>4</th>\n",
       "      <td>&lt;p&gt;at this point, i'm not much of a programmer...</td>\n",
       "      <td>[web, file-handling, storage]</td>\n",
       "    </tr>\n",
       "    <tr>\n",
       "      <th>...</th>\n",
       "      <td>...</td>\n",
       "      <td>...</td>\n",
       "    </tr>\n",
       "    <tr>\n",
       "      <th>29995</th>\n",
       "      <td>&lt;p&gt;i have a web service with the methods &lt;code...</td>\n",
       "      <td>[c#, naming, web-services]</td>\n",
       "    </tr>\n",
       "    <tr>\n",
       "      <th>29996</th>\n",
       "      <td>&lt;p&gt;i'm producing a binary distributable for my...</td>\n",
       "      <td>[java, licensing, mit-license, maven, apache-l...</td>\n",
       "    </tr>\n",
       "    <tr>\n",
       "      <th>29997</th>\n",
       "      <td>&lt;p&gt;now this question might sound (/ is) stupid...</td>\n",
       "      <td>[graphics]</td>\n",
       "    </tr>\n",
       "    <tr>\n",
       "      <th>29998</th>\n",
       "      <td>&lt;p&gt;in a website users can register through dif...</td>\n",
       "      <td>[design-patterns, database-design]</td>\n",
       "    </tr>\n",
       "    <tr>\n",
       "      <th>29999</th>\n",
       "      <td>&lt;p&gt;recently my scrum team has received several...</td>\n",
       "      <td>[scrum, optimization, user-story]</td>\n",
       "    </tr>\n",
       "  </tbody>\n",
       "</table>\n",
       "<p>29113 rows × 2 columns</p>\n",
       "</div>"
      ],
      "text/plain": [
       "                                                    Body  \\\n",
       "0      <p>i work on a java web-application. in this a...   \n",
       "1      <p><em>firstly i am new to software engineerin...   \n",
       "2      <p>as much as programmers hate to document the...   \n",
       "3      <p>i want to gather several sub-projects in a ...   \n",
       "4      <p>at this point, i'm not much of a programmer...   \n",
       "...                                                  ...   \n",
       "29995  <p>i have a web service with the methods <code...   \n",
       "29996  <p>i'm producing a binary distributable for my...   \n",
       "29997  <p>now this question might sound (/ is) stupid...   \n",
       "29998  <p>in a website users can register through dif...   \n",
       "29999  <p>recently my scrum team has received several...   \n",
       "\n",
       "                                                    Tags  \n",
       "0                      [java, architecture, performance]  \n",
       "1      [design-patterns, python, object-oriented-design]  \n",
       "2      [design, development-process, programming-prac...  \n",
       "3                                    [licensing, github]  \n",
       "4                          [web, file-handling, storage]  \n",
       "...                                                  ...  \n",
       "29995                         [c#, naming, web-services]  \n",
       "29996  [java, licensing, mit-license, maven, apache-l...  \n",
       "29997                                         [graphics]  \n",
       "29998                 [design-patterns, database-design]  \n",
       "29999                  [scrum, optimization, user-story]  \n",
       "\n",
       "[29113 rows x 2 columns]"
      ]
     },
     "execution_count": 16,
     "metadata": {},
     "output_type": "execute_result"
    }
   ],
   "source": [
    "df"
   ]
  },
  {
   "cell_type": "code",
   "execution_count": 17,
   "metadata": {},
   "outputs": [],
   "source": [
    "df['Body'] = df['Body'].apply(lambda x: BeautifulSoup(x).get_text())"
   ]
  },
  {
   "cell_type": "code",
   "execution_count": 18,
   "metadata": {},
   "outputs": [
    {
     "data": {
      "text/html": [
       "<div>\n",
       "<style scoped>\n",
       "    .dataframe tbody tr th:only-of-type {\n",
       "        vertical-align: middle;\n",
       "    }\n",
       "\n",
       "    .dataframe tbody tr th {\n",
       "        vertical-align: top;\n",
       "    }\n",
       "\n",
       "    .dataframe thead th {\n",
       "        text-align: right;\n",
       "    }\n",
       "</style>\n",
       "<table border=\"1\" class=\"dataframe\">\n",
       "  <thead>\n",
       "    <tr style=\"text-align: right;\">\n",
       "      <th></th>\n",
       "      <th>Body</th>\n",
       "      <th>Tags</th>\n",
       "    </tr>\n",
       "  </thead>\n",
       "  <tbody>\n",
       "    <tr>\n",
       "      <th>0</th>\n",
       "      <td>i work on a java web-application. in this appl...</td>\n",
       "      <td>[java, architecture, performance]</td>\n",
       "    </tr>\n",
       "    <tr>\n",
       "      <th>1</th>\n",
       "      <td>firstly i am new to software engineering and m...</td>\n",
       "      <td>[design-patterns, python, object-oriented-design]</td>\n",
       "    </tr>\n",
       "    <tr>\n",
       "      <th>2</th>\n",
       "      <td>as much as programmers hate to document their ...</td>\n",
       "      <td>[design, development-process, programming-prac...</td>\n",
       "    </tr>\n",
       "    <tr>\n",
       "      <th>3</th>\n",
       "      <td>i want to gather several sub-projects in a sin...</td>\n",
       "      <td>[licensing, github]</td>\n",
       "    </tr>\n",
       "    <tr>\n",
       "      <th>4</th>\n",
       "      <td>at this point, i'm not much of a programmer, s...</td>\n",
       "      <td>[web, file-handling, storage]</td>\n",
       "    </tr>\n",
       "    <tr>\n",
       "      <th>...</th>\n",
       "      <td>...</td>\n",
       "      <td>...</td>\n",
       "    </tr>\n",
       "    <tr>\n",
       "      <th>29995</th>\n",
       "      <td>i have a web service with the methods getuser ...</td>\n",
       "      <td>[c#, naming, web-services]</td>\n",
       "    </tr>\n",
       "    <tr>\n",
       "      <th>29996</th>\n",
       "      <td>i'm producing a binary distributable for my ja...</td>\n",
       "      <td>[java, licensing, mit-license, maven, apache-l...</td>\n",
       "    </tr>\n",
       "    <tr>\n",
       "      <th>29997</th>\n",
       "      <td>now this question might sound (/ is) stupid, b...</td>\n",
       "      <td>[graphics]</td>\n",
       "    </tr>\n",
       "    <tr>\n",
       "      <th>29998</th>\n",
       "      <td>in a website users can register through differ...</td>\n",
       "      <td>[design-patterns, database-design]</td>\n",
       "    </tr>\n",
       "    <tr>\n",
       "      <th>29999</th>\n",
       "      <td>recently my scrum team has received several re...</td>\n",
       "      <td>[scrum, optimization, user-story]</td>\n",
       "    </tr>\n",
       "  </tbody>\n",
       "</table>\n",
       "<p>29113 rows × 2 columns</p>\n",
       "</div>"
      ],
      "text/plain": [
       "                                                    Body  \\\n",
       "0      i work on a java web-application. in this appl...   \n",
       "1      firstly i am new to software engineering and m...   \n",
       "2      as much as programmers hate to document their ...   \n",
       "3      i want to gather several sub-projects in a sin...   \n",
       "4      at this point, i'm not much of a programmer, s...   \n",
       "...                                                  ...   \n",
       "29995  i have a web service with the methods getuser ...   \n",
       "29996  i'm producing a binary distributable for my ja...   \n",
       "29997  now this question might sound (/ is) stupid, b...   \n",
       "29998  in a website users can register through differ...   \n",
       "29999  recently my scrum team has received several re...   \n",
       "\n",
       "                                                    Tags  \n",
       "0                      [java, architecture, performance]  \n",
       "1      [design-patterns, python, object-oriented-design]  \n",
       "2      [design, development-process, programming-prac...  \n",
       "3                                    [licensing, github]  \n",
       "4                          [web, file-handling, storage]  \n",
       "...                                                  ...  \n",
       "29995                         [c#, naming, web-services]  \n",
       "29996  [java, licensing, mit-license, maven, apache-l...  \n",
       "29997                                         [graphics]  \n",
       "29998                 [design-patterns, database-design]  \n",
       "29999                  [scrum, optimization, user-story]  \n",
       "\n",
       "[29113 rows x 2 columns]"
      ]
     },
     "execution_count": 18,
     "metadata": {},
     "output_type": "execute_result"
    }
   ],
   "source": [
    "df"
   ]
  },
  {
   "cell_type": "code",
   "execution_count": 19,
   "metadata": {},
   "outputs": [],
   "source": [
    "token = ToktokTokenizer()\n",
    "punct = punctuation"
   ]
  },
  {
   "cell_type": "code",
   "execution_count": 20,
   "metadata": {},
   "outputs": [],
   "source": [
    "def strip_list_noempty(mylist):\n",
    "    newlist = (item.strip() if hasattr(item, 'strip') else item for item in mylist)   \n",
    "    return [item for item in newlist if item != '']"
   ]
  },
  {
   "cell_type": "markdown",
   "metadata": {},
   "source": [
    "### Remove all Punctuation"
   ]
  },
  {
   "cell_type": "code",
   "execution_count": 21,
   "metadata": {},
   "outputs": [],
   "source": [
    "def punctuation_remove (text): \n",
    "    words = token.tokenize(text)\n",
    "    data_wo_Punctuation = []\n",
    "    regex = re.compile('[%s]' % re.escape(punct))\n",
    "    replace_punct = str.maketrans(' ', ' ', punct)\n",
    "    \n",
    "    for w in words:\n",
    "        if w in top_tags:\n",
    "            data_wo_Punctuation.append(w)\n",
    "        else:\n",
    "            w = re.sub('^[0-9]*', \" \", w)\n",
    "            data_wo_Punctuation.append(regex.sub('', w))\n",
    "  \n",
    "    filtered_list = strip_list_noempty(data_wo_Punctuation)\n",
    "        \n",
    "    return ' '.join(map(str, filtered_list))"
   ]
  },
  {
   "cell_type": "code",
   "execution_count": 22,
   "metadata": {},
   "outputs": [],
   "source": [
    "stop_words = set(stopwords.words(\"english\"))"
   ]
  },
  {
   "cell_type": "markdown",
   "metadata": {},
   "source": [
    "### Remove all Stop-Words"
   ]
  },
  {
   "cell_type": "code",
   "execution_count": 23,
   "metadata": {},
   "outputs": [],
   "source": [
    "def remove_stopWords(text):\n",
    "    words = token.tokenize(text)\n",
    "    filtered = [w for w in words if not w in stop_words]    \n",
    "    return ' '.join(map(str, filtered))"
   ]
  },
  {
   "cell_type": "markdown",
   "metadata": {},
   "source": [
    "### Wordnet lemmatizing"
   ]
  },
  {
   "cell_type": "code",
   "execution_count": 25,
   "metadata": {},
   "outputs": [],
   "source": [
    "nlp = spacy.load('en', disable=['parser', 'ner'])\n",
    "def lemmatizing(texts, allowed_postags, stop_words=stop_words):\n",
    "   \n",
    "    lemma = wordnet.WordNetLemmatizer()       \n",
    "    doc = nlp(texts) \n",
    "    result_data = []\n",
    "    \n",
    "    for token in doc:    \n",
    "        if str(token) in top_tags:\n",
    "            result_data.append(str(token))           \n",
    "        elif token.pos_ in allowed_postags:           \n",
    "            if token.lemma_ not in ['-PRON-']:\n",
    "                result_data.append(token.lemma_)             \n",
    "            else:\n",
    "                result_data.append('')     \n",
    "    result_data = ' '.join(result_data)\n",
    "\n",
    "    return result_data"
   ]
  },
  {
   "cell_type": "code",
   "execution_count": 26,
   "metadata": {},
   "outputs": [],
   "source": [
    "df['Body'] = df['Body'].apply(lambda x: punctuation_remove (x)) \n",
    "df['Body'] = df['Body'].apply(lambda x: remove_stopWords(x)) \n",
    "df['Body'] = df['Body'].apply(lambda x: lemmatizing(x, ['NOUN', 'ADV']))"
   ]
  },
  {
   "cell_type": "code",
   "execution_count": 27,
   "metadata": {},
   "outputs": [
    {
     "data": {
      "text/html": [
       "<div>\n",
       "<style scoped>\n",
       "    .dataframe tbody tr th:only-of-type {\n",
       "        vertical-align: middle;\n",
       "    }\n",
       "\n",
       "    .dataframe tbody tr th {\n",
       "        vertical-align: top;\n",
       "    }\n",
       "\n",
       "    .dataframe thead th {\n",
       "        text-align: right;\n",
       "    }\n",
       "</style>\n",
       "<table border=\"1\" class=\"dataframe\">\n",
       "  <thead>\n",
       "    <tr style=\"text-align: right;\">\n",
       "      <th></th>\n",
       "      <th>Body</th>\n",
       "      <th>Tags</th>\n",
       "    </tr>\n",
       "  </thead>\n",
       "  <tbody>\n",
       "    <tr>\n",
       "      <th>0</th>\n",
       "      <td>work java webapplication application user xlsp...</td>\n",
       "      <td>[java, architecture, performance]</td>\n",
       "    </tr>\n",
       "    <tr>\n",
       "      <th>1</th>\n",
       "      <td>firstly software engineering question question...</td>\n",
       "      <td>[design-patterns, python, object-oriented-design]</td>\n",
       "    </tr>\n",
       "    <tr>\n",
       "      <th>2</th>\n",
       "      <td>programmer document codesystem uml especially ...</td>\n",
       "      <td>[design, development-process, programming-prac...</td>\n",
       "    </tr>\n",
       "    <tr>\n",
       "      <th>3</th>\n",
       "      <td>subproject github repo convenience user actual...</td>\n",
       "      <td>[licensing, github]</td>\n",
       "    </tr>\n",
       "    <tr>\n",
       "      <th>4</th>\n",
       "      <td>point much solid htmlcss js programmer pick pr...</td>\n",
       "      <td>[web, file-handling, storage]</td>\n",
       "    </tr>\n",
       "    <tr>\n",
       "      <th>...</th>\n",
       "      <td>...</td>\n",
       "      <td>...</td>\n",
       "    </tr>\n",
       "    <tr>\n",
       "      <th>29995</th>\n",
       "      <td>web service methods getuser adduser dtos data ...</td>\n",
       "      <td>[c#, naming, web-services]</td>\n",
       "    </tr>\n",
       "    <tr>\n",
       "      <th>29996</th>\n",
       "      <td>binary java project way maven code project apa...</td>\n",
       "      <td>[java, licensing, mit-license, maven, apache-l...</td>\n",
       "    </tr>\n",
       "    <tr>\n",
       "      <th>29997</th>\n",
       "      <td>question glfw source example code still functi...</td>\n",
       "      <td>[graphics]</td>\n",
       "    </tr>\n",
       "    <tr>\n",
       "      <th>29998</th>\n",
       "      <td>website user login facebook github addition em...</td>\n",
       "      <td>[design-patterns, database-design]</td>\n",
       "    </tr>\n",
       "    <tr>\n",
       "      <th>29999</th>\n",
       "      <td>recently scrum team request part code software...</td>\n",
       "      <td>[scrum, optimization, user-story]</td>\n",
       "    </tr>\n",
       "  </tbody>\n",
       "</table>\n",
       "<p>29113 rows × 2 columns</p>\n",
       "</div>"
      ],
      "text/plain": [
       "                                                    Body  \\\n",
       "0      work java webapplication application user xlsp...   \n",
       "1      firstly software engineering question question...   \n",
       "2      programmer document codesystem uml especially ...   \n",
       "3      subproject github repo convenience user actual...   \n",
       "4      point much solid htmlcss js programmer pick pr...   \n",
       "...                                                  ...   \n",
       "29995  web service methods getuser adduser dtos data ...   \n",
       "29996  binary java project way maven code project apa...   \n",
       "29997  question glfw source example code still functi...   \n",
       "29998  website user login facebook github addition em...   \n",
       "29999  recently scrum team request part code software...   \n",
       "\n",
       "                                                    Tags  \n",
       "0                      [java, architecture, performance]  \n",
       "1      [design-patterns, python, object-oriented-design]  \n",
       "2      [design, development-process, programming-prac...  \n",
       "3                                    [licensing, github]  \n",
       "4                          [web, file-handling, storage]  \n",
       "...                                                  ...  \n",
       "29995                         [c#, naming, web-services]  \n",
       "29996  [java, licensing, mit-license, maven, apache-l...  \n",
       "29997                                         [graphics]  \n",
       "29998                 [design-patterns, database-design]  \n",
       "29999                  [scrum, optimization, user-story]  \n",
       "\n",
       "[29113 rows x 2 columns]"
      ]
     },
     "execution_count": 27,
     "metadata": {},
     "output_type": "execute_result"
    }
   ],
   "source": [
    "df"
   ]
  },
  {
   "cell_type": "markdown",
   "metadata": {},
   "source": [
    "### Vectorization and Traing Testing Split"
   ]
  },
  {
   "cell_type": "code",
   "execution_count": 29,
   "metadata": {},
   "outputs": [],
   "source": [
    "X_vec = TfidfVectorizer(analyzer='word', min_df=0.0, max_df = 1.0, \n",
    "                                   strip_accents = None, encoding = 'utf-8', \n",
    "                                   preprocessor=None, \n",
    "                                   token_pattern=r\"(?u)\\S\\S+\", \n",
    "                                   max_features=1000)\n",
    "multilabel_binarizer = MultiLabelBinarizer()\n",
    "y_tags = multilabel_binarizer.fit_transform(df['Tags'])\n",
    "\n",
    "X_train, X_test, y_train, y_test = train_test_split(\n",
    "    df['Body'], y_tags, test_size=0.2,train_size=0.8, random_state=0)\n",
    "\n",
    "X_tfidf_train = X_vec.fit_transform(X_train)\n",
    "X_tfidf_test = X_vec.transform(X_test)"
   ]
  },
  {
   "cell_type": "markdown",
   "metadata": {},
   "source": [
    "### Vectorization with 2gram TF-IDF"
   ]
  },
  {
   "cell_type": "code",
   "execution_count": 30,
   "metadata": {},
   "outputs": [],
   "source": [
    "2gram_vec = TfidfVectorizer(analyzer='word', min_df=0.0, max_df = 1.0, \n",
    "                                   strip_accents = None, encoding = 'utf-8', \n",
    "                                   preprocessor=None, ngram_range=(2,2),\n",
    "                                   token_pattern=r\"(?u)\\S\\S+\", # Need to repeat token pattern\n",
    "                                   max_features=1000)\n",
    "X_2gram_train, X_2gram_test, y_2gram_train, y_2gram_test = train_test_split(\n",
    "    df['Body'], df['Tags'], test_size=0.2,train_size=0.8, random_state=0)\n",
    "\n",
    "X_2gram_tfidf_train = 2gram_vec.fit_transform(X_2gram_train)\n",
    "X_2gram_tfidf_test = 2gram_vec.transform(X_2gram_test)"
   ]
  },
  {
   "cell_type": "code",
   "execution_count": 31,
   "metadata": {},
   "outputs": [
    {
     "data": {
      "text/plain": [
       "array([[0, 0, 0, ..., 0, 0, 0],\n",
       "       [0, 0, 0, ..., 0, 0, 0],\n",
       "       [0, 0, 0, ..., 0, 0, 0],\n",
       "       ...,\n",
       "       [0, 0, 0, ..., 0, 0, 0],\n",
       "       [0, 0, 0, ..., 0, 0, 0],\n",
       "       [0, 0, 0, ..., 0, 0, 0]])"
      ]
     },
     "execution_count": 31,
     "metadata": {},
     "output_type": "execute_result"
    }
   ],
   "source": [
    "y_tags"
   ]
  },
  {
   "cell_type": "code",
   "execution_count": 37,
   "metadata": {},
   "outputs": [
    {
     "data": {
      "text/plain": [
       "<23290x1000 sparse matrix of type '<class 'numpy.float64'>'\n",
       "\twith 82958 stored elements in Compressed Sparse Row format>"
      ]
     },
     "execution_count": 37,
     "metadata": {},
     "output_type": "execute_result"
    }
   ],
   "source": [
    "X_2gram_tfidf_train"
   ]
  },
  {
   "cell_type": "markdown",
   "metadata": {},
   "source": [
    "### Print top words"
   ]
  },
  {
   "cell_type": "code",
   "execution_count": 38,
   "metadata": {},
   "outputs": [],
   "source": [
    "def common_words(model, feature_names, number_words_best, data):\n",
    "    list_topics = []\n",
    "    list_occurences = []\n",
    "    topics_num = model.n_components\n",
    "\n",
    "    for i in model.transform(data):\n",
    "        list_topics.append(i.argmax())\n",
    "    \n",
    "    for topic in range(topics_num):\n",
    "        list_occurences.append(list_topics.count(topic))\n",
    "\n",
    "    top_topics = sorted(range(len(list_occurences)), \n",
    "                        key=lambda k: list_occurences[k], reverse=True)\n",
    "    \n",
    "    for topic_idx, topic_id in zip(range(1, topics_num + 1), top_topics):\n",
    "        message = \"Tag #%d: \" % topic_idx\n",
    "        message += \" / \".join([feature_names[i]\n",
    "                             for i in model.components_[topic_id].argsort()[:-number_words_best - 1:-1]])\n",
    "        print(message)\n",
    "    \n",
    "    print()"
   ]
  },
  {
   "cell_type": "markdown",
   "metadata": {},
   "source": [
    "### Topic Modelling with LDA"
   ]
  },
  {
   "cell_type": "code",
   "execution_count": 39,
   "metadata": {},
   "outputs": [],
   "source": [
    "def lda(vectorizer, data_train, data_test):\n",
    "    number_words_best = 15\n",
    "    perplexity_high = np.inf\n",
    "    lda_high = 0\n",
    "    print(\"Extracting term frequency features for LDA...\")\n",
    "    perplexity_list = []\n",
    "    number_topic = []\n",
    "    for topics_num in np.linspace(10, 50, 5, dtype='int'):\n",
    "        lda_model = LatentDirichletAllocation(n_components=topics_num, max_iter=5,\n",
    "                                        learning_method='online',\n",
    "                                        learning_offset=50.,\n",
    "                                        random_state=0).fit(data_train)\n",
    "        number_topic.append(topics_num)\n",
    "        perplexity = lda_model.perplexity(data_test)\n",
    "        perplexity_list.append(perplexity)\n",
    "        if perplexity <= perplexity_high:\n",
    "            perplexity_high = perplexity\n",
    "            lda_high = lda_model\n",
    "                                \n",
    "    plt.title(\"Evolution of perplexity score depending on number of topics\")\n",
    "    plt.xlabel(\"Number of topics\")\n",
    "    plt.ylabel(\"Perplexity\")\n",
    "    plt.plot(number_topic, perplexity_list)\n",
    "    plt.show()\n",
    "\n",
    "    print(\"\\n The tags in the LDA model :\")\n",
    "    tf_feature_names = vectorizer.get_feature_names()\n",
    "    common_words(lda_high, tf_feature_names, number_words_best, data_test)"
   ]
  },
  {
   "cell_type": "code",
   "execution_count": 40,
   "metadata": {},
   "outputs": [
    {
     "name": "stdout",
     "output_type": "stream",
     "text": [
      "Extracting term frequency features for LDA...\n"
     ]
    },
    {
     "data": {
      "image/png": "[encoded data removed]",
      "text/plain": [
       "<Figure size 432x288 with 1 Axes>"
      ]
     },
     "metadata": {
      "needs_background": "light"
     },
     "output_type": "display_data"
    },
    {
     "name": "stdout",
     "output_type": "stream",
     "text": [
      "\n",
      " The tags in the LDA model :\n",
      "Tag #1: project / code / test / developer / team / software / development / time / work / company / testing / question / feature / version / branch\n",
      "Tag #2: function / code / language / value / type / example / programming / languages / class / number / int / functions / array / object / algorithm\n",
      "Tag #3: server / data / user / web / application / client / database / app / api / service / file / page / request / system / way\n",
      "Tag #4: class / object / method / interface / methods / model / pattern / code / data / entity / property / test / type / logic / layer\n",
      "Tag #5: user / string / error / null / exception / email / class / return / name / message / object / value / function / method / item\n",
      "Tag #6: license / source / file / project / library / gpl / code / software / copyright / libraries / program / folder / use / version / card\n",
      "Tag #7: table / database / node / column / query / sql / data / row / tree / record / graph / schema / child / mysql / category\n",
      "Tag #8: event / thread / diagram / queue / uml / diagrams / actor / message / view / model / sequence / state / worker / component / activity\n",
      "Tag #9: foo / bar / android / app / device / player / ios / windows / apple / mobile / country / phone / platform / linux / video\n",
      "Tag #10: script / price / plugin / date / timestamp / sale / section / debug / organization / sreplace / window / record / parsing / loop / time\n",
      "\n"
     ]
    }
   ],
   "source": [
    "lda(X_vec, X_tfidf_train, X_tfidf_test)"
   ]
  },
  {
   "cell_type": "code",
   "execution_count": 45,
   "metadata": {},
   "outputs": [
    {
     "data": {
      "text/plain": [
       "array([0, 0, 0, 0, 0, 0, 0, 0, 0, 0, 0, 0, 0, 0, 0, 0, 0, 0, 0, 0, 0, 0,\n",
       "       0, 0, 0, 0, 0, 0, 0, 0, 0, 0, 0, 0, 0, 0, 0, 0, 0, 0, 0, 0, 0, 0,\n",
       "       0, 0, 0, 0, 0, 0, 0, 0, 0, 0, 0, 0, 0, 0, 0, 0, 0, 0, 0, 0, 0, 0,\n",
       "       0, 0, 0, 0, 0, 0, 0, 0, 0, 0, 0, 0, 0, 0, 0, 0, 0, 0, 0, 0, 0, 0,\n",
       "       0, 0, 0, 0, 0, 0, 0, 0, 0, 0, 0, 0, 0, 0, 0, 0, 0, 0, 0, 0, 0, 0,\n",
       "       0, 0, 0, 0, 0, 0, 0, 0, 0, 0, 0, 0, 0, 0, 0, 0, 0, 0, 0, 0, 0, 0,\n",
       "       0, 0, 0, 0, 0, 0, 0, 0, 0, 0, 0, 0, 0, 0, 0, 0, 0, 0, 0, 0, 0, 0,\n",
       "       0, 0, 0, 0, 0, 0, 0, 0, 0, 0, 0, 0, 0, 0, 0, 0, 0, 0, 0, 0, 0, 0,\n",
       "       0, 1, 0, 0, 0, 0, 0, 0, 0, 0, 0, 0, 0, 0, 0, 0, 0, 0, 0, 0, 0, 0,\n",
       "       0, 0, 0, 0, 0, 0, 0, 0, 0, 0, 0, 0, 0, 0, 0, 0, 0, 0, 0, 0, 0, 0,\n",
       "       0, 0, 0, 0, 0, 0, 0, 0, 0, 0, 0, 0, 0, 0, 0, 0, 0, 1, 0, 0, 0, 0,\n",
       "       0, 0, 0, 0, 0, 0, 0, 0, 0, 0, 0, 0, 0, 0, 0, 0, 0, 0, 0, 0, 0, 0,\n",
       "       0, 0, 0, 0, 0, 0, 0, 0, 0, 0, 0, 0, 0, 0, 0, 0, 0, 0, 0, 0, 0, 0,\n",
       "       0, 0, 0, 0, 0, 0, 0, 0, 0, 0, 0, 0, 0, 0, 0, 0, 0, 0, 0, 0, 0, 0,\n",
       "       0, 0, 0, 0, 0, 1, 0, 0, 0, 0, 0, 0, 0, 0, 0, 0, 0, 0, 0, 0, 0, 0,\n",
       "       0, 0, 0, 0, 0, 0, 0, 0, 0, 0, 0, 0, 1, 0, 0, 0, 0, 0, 0, 0, 0, 0,\n",
       "       0, 0, 0, 0, 0, 0, 0, 0, 0, 0, 0, 0, 0, 0, 0, 0, 0, 0, 0, 0, 0, 0,\n",
       "       0, 0, 0, 0, 0, 0, 0, 0, 0, 0, 0, 0, 0, 0, 0, 0, 0, 0, 0, 0, 0, 0,\n",
       "       0, 0, 0, 0])"
      ]
     },
     "execution_count": 45,
     "metadata": {},
     "output_type": "execute_result"
    }
   ],
   "source": [
    "y_tags[100]"
   ]
  },
  {
   "cell_type": "markdown",
   "metadata": {},
   "source": [
    "### recommend tag lda"
   ]
  },
  {
   "cell_type": "code",
   "execution_count": 56,
   "metadata": {},
   "outputs": [],
   "source": [
    "def Recommend_tags_lda_test(X_tfidf_test, X_train):\n",
    "    dataframe_lda_tt = pd.DataFrame(index=[i for i in range(X_tfidf_test.shape[0])], \n",
    "             columns=['0.010', '0.011', '0.012', '0.013'])\n",
    "    corpus = X_tfidf_test\n",
    "    topics_num = 10\n",
    "\n",
    "    string_vectorizer = TfidfVectorizer(analyzer='word', min_df=0.0, max_df = 1.0, \n",
    "                                    strip_accents = None, encoding = 'utf-8', \n",
    "                                    preprocessor=None, \n",
    "                                    token_pattern=r\"(?u)\\S\\S+\", # Need to repeat token pattern\n",
    "                                    max_features=1000)\n",
    "    X_tfidf_train = string_vectorizer.fit_transform(X_train)\n",
    "    lda_model = LatentDirichletAllocation(n_components=topics_num, max_iter=5,\n",
    "                                        learning_method='online',\n",
    "                                        learning_offset=50.,\n",
    "                                        random_state=0).fit(X_tfidf_train)\n",
    "    corpus_projection = lda_model.transform(corpus)\n",
    "    \n",
    "    feature_names = string_vectorizer.get_feature_names()\n",
    "    ldaElement = lda_model.components_ / lda_model.components_.sum(axis=1)[:, np.newaxis] # normalization\n",
    "\n",
    "    for column, threshold in zip(range(4), [0.010, 0.011, 0.012, 0.013]): #  threshold to exceed to be considered as a relevant tag\n",
    "\n",
    "        for text in range(corpus.shape[0]):\n",
    "            list_scores = []\n",
    "            list_words = []\n",
    "\n",
    "            for topic in range(topics_num):\n",
    "                topic_score = corpus_projection[text][topic]\n",
    "\n",
    "                for (word_idx, word_score) in zip(ldaElement[topic].argsort()[:-5:-1], sorted(ldaElement[topic])[:-5:-1]):\n",
    "                    score = topic_score*word_score\n",
    "\n",
    "                    if score >= threshold:\n",
    "                        list_scores.append(score)\n",
    "                        list_words.append(feature_names[word_idx])\n",
    "\n",
    "            results = [tag for (y,tag) in sorted(zip(list_scores,list_words), \n",
    "                                                 key=lambda pair: pair[0], reverse=True)]\n",
    "            dataframe_lda_tt.iloc[text, column] = results[:5] #maximum five tags\n",
    "\n",
    "    return dataframe_lda_tt"
   ]
  },
  {
   "cell_type": "code",
   "execution_count": 57,
   "metadata": {},
   "outputs": [],
   "source": [
    "def Recommend_tags_lda(text, X_train):\n",
    "    text = data_clean(text)\n",
    "    text = punctuation_remove (text)\n",
    "    text = remove_stopWords(text)\n",
    "    text = lemmatizing(text, ['NOUN', 'ADV'])\n",
    "    topics_num = 10\n",
    "    threshold = 0.011\n",
    "    list_scores = []\n",
    "    list_words = []\n",
    "    used = set()\n",
    "\n",
    "    string_vectorizer = TfidfVectorizer(analyzer='word', min_df=0.0, max_df = 1.0, \n",
    "                                    strip_accents = None, encoding = 'utf-8', \n",
    "                                    preprocessor=None, \n",
    "                                    token_pattern=r\"(?u)\\S\\S+\", # Need to repeat token pattern\n",
    "                                    max_features=1000)\n",
    "    string_vectorizer.fit(X_train)\n",
    "    text_tfidf = string_vectorizer.transform([text])\n",
    "\n",
    "    lda_model = LatentDirichletAllocation(n_components=topics_num, max_iter=5,\n",
    "                                        learning_method='online',\n",
    "                                        learning_offset=50.,\n",
    "                                        random_state=0).fit(X_tfidf_train)\n",
    "    text_projection = lda_model.transform(text_tfidf)\n",
    "    feature_names = string_vectorizer.get_feature_names()\n",
    "    ldaElement = lda_model.components_ / lda_model.components_.sum(axis=1)[:, np.newaxis] # normalization\n",
    "\n",
    "    for topic in range(topics_num):\n",
    "        topic_score = text_projection[0][topic]\n",
    "\n",
    "        for (word_idx, word_score) in zip(ldaElement[topic].argsort()[:-5:-1], sorted(ldaElement[topic])[:-5:-1]):\n",
    "            score = topic_score*word_score\n",
    "\n",
    "            if score >= threshold:\n",
    "                list_scores.append(score)\n",
    "                list_words.append(feature_names[word_idx])\n",
    "                used.add(feature_names[word_idx])\n",
    "\n",
    "    results = [tag for (y,tag) in sorted(zip(list_scores,list_words), key=lambda pair: pair[0], reverse=True)]\n",
    "    unique_results = [x for x in results if x not in used] # get only unique tags\n",
    "    tags = \" \".join(results[:5])\n",
    "\n",
    "    return tags"
   ]
  },
  {
   "cell_type": "code",
   "execution_count": 58,
   "metadata": {},
   "outputs": [],
   "source": [
    "dataframe_lda_tt = Recommend_tags_lda_test(X_tfidf_test, X_train)"
   ]
  },
  {
   "cell_type": "code",
   "execution_count": 59,
   "metadata": {},
   "outputs": [
    {
     "data": {
      "text/html": [
       "<div>\n",
       "<style scoped>\n",
       "    .dataframe tbody tr th:only-of-type {\n",
       "        vertical-align: middle;\n",
       "    }\n",
       "\n",
       "    .dataframe tbody tr th {\n",
       "        vertical-align: top;\n",
       "    }\n",
       "\n",
       "    .dataframe thead th {\n",
       "        text-align: right;\n",
       "    }\n",
       "</style>\n",
       "<table border=\"1\" class=\"dataframe\">\n",
       "  <thead>\n",
       "    <tr style=\"text-align: right;\">\n",
       "      <th></th>\n",
       "      <th>0.010</th>\n",
       "      <th>0.011</th>\n",
       "      <th>0.012</th>\n",
       "      <th>0.013</th>\n",
       "    </tr>\n",
       "  </thead>\n",
       "  <tbody>\n",
       "    <tr>\n",
       "      <th>0</th>\n",
       "      <td>[]</td>\n",
       "      <td>[]</td>\n",
       "      <td>[]</td>\n",
       "      <td>[]</td>\n",
       "    </tr>\n",
       "    <tr>\n",
       "      <th>1</th>\n",
       "      <td>[server, data, user, web]</td>\n",
       "      <td>[server, data, user]</td>\n",
       "      <td>[server, data, user]</td>\n",
       "      <td>[server, data]</td>\n",
       "    </tr>\n",
       "    <tr>\n",
       "      <th>2</th>\n",
       "      <td>[function]</td>\n",
       "      <td>[]</td>\n",
       "      <td>[]</td>\n",
       "      <td>[]</td>\n",
       "    </tr>\n",
       "    <tr>\n",
       "      <th>3</th>\n",
       "      <td>[user]</td>\n",
       "      <td>[user]</td>\n",
       "      <td>[user]</td>\n",
       "      <td>[user]</td>\n",
       "    </tr>\n",
       "    <tr>\n",
       "      <th>4</th>\n",
       "      <td>[server, data, user, web]</td>\n",
       "      <td>[server, data, user]</td>\n",
       "      <td>[server, data, user]</td>\n",
       "      <td>[server, data]</td>\n",
       "    </tr>\n",
       "    <tr>\n",
       "      <th>5</th>\n",
       "      <td>[server, data, user]</td>\n",
       "      <td>[server, data, user]</td>\n",
       "      <td>[server, data]</td>\n",
       "      <td>[server]</td>\n",
       "    </tr>\n",
       "    <tr>\n",
       "      <th>6</th>\n",
       "      <td>[class, object]</td>\n",
       "      <td>[class]</td>\n",
       "      <td>[class]</td>\n",
       "      <td>[class]</td>\n",
       "    </tr>\n",
       "    <tr>\n",
       "      <th>7</th>\n",
       "      <td>[foo, bar, android, app]</td>\n",
       "      <td>[foo, bar, android, app]</td>\n",
       "      <td>[foo, bar, android, app]</td>\n",
       "      <td>[foo, bar, android, app]</td>\n",
       "    </tr>\n",
       "    <tr>\n",
       "      <th>8</th>\n",
       "      <td>[]</td>\n",
       "      <td>[]</td>\n",
       "      <td>[]</td>\n",
       "      <td>[]</td>\n",
       "    </tr>\n",
       "    <tr>\n",
       "      <th>9</th>\n",
       "      <td>[]</td>\n",
       "      <td>[]</td>\n",
       "      <td>[]</td>\n",
       "      <td>[]</td>\n",
       "    </tr>\n",
       "  </tbody>\n",
       "</table>\n",
       "</div>"
      ],
      "text/plain": [
       "                       0.010                     0.011  \\\n",
       "0                         []                        []   \n",
       "1  [server, data, user, web]      [server, data, user]   \n",
       "2                 [function]                        []   \n",
       "3                     [user]                    [user]   \n",
       "4  [server, data, user, web]      [server, data, user]   \n",
       "5       [server, data, user]      [server, data, user]   \n",
       "6            [class, object]                   [class]   \n",
       "7   [foo, bar, android, app]  [foo, bar, android, app]   \n",
       "8                         []                        []   \n",
       "9                         []                        []   \n",
       "\n",
       "                      0.012                     0.013  \n",
       "0                        []                        []  \n",
       "1      [server, data, user]            [server, data]  \n",
       "2                        []                        []  \n",
       "3                    [user]                    [user]  \n",
       "4      [server, data, user]            [server, data]  \n",
       "5            [server, data]                  [server]  \n",
       "6                   [class]                   [class]  \n",
       "7  [foo, bar, android, app]  [foo, bar, android, app]  \n",
       "8                        []                        []  \n",
       "9                        []                        []  "
      ]
     },
     "execution_count": 59,
     "metadata": {},
     "output_type": "execute_result"
    }
   ],
   "source": [
    "dataframe_lda_tt.head(10)"
   ]
  },
  {
   "cell_type": "markdown",
   "metadata": {},
   "source": [
    "### statistic of tags"
   ]
  },
  {
   "cell_type": "code",
   "execution_count": 60,
   "metadata": {},
   "outputs": [
    {
     "name": "stdout",
     "output_type": "stream",
     "text": [
      "Average number of tags in the training set: 2.41\n",
      "Median number of tags in the training set:  2.0\n",
      "--------------------------------------\n",
      "Average number of tags in the test set, with a threshold of 0.010: 2.46\n",
      "Median number of tags in the test set, with a threshold of 0.010: 3\n",
      "Percentage of posts that have recommended tags in the test set, with a threshold of 0.010: 87\n",
      "--------------------------------------\n",
      "Average number of tags in the test set, with a threshold of 0.011: 1.82\n",
      "Median number of tags in the test set, with a threshold of 0.011: 2\n",
      "Percentage of posts that have recommended tags in the test set, with a threshold of 0.011: 75\n",
      "--------------------------------------\n",
      "Average number of tags in the test set, with a threshold of 0.012: 1.38\n",
      "Median number of tags in the test set, with a threshold of 0.012: 1\n",
      "Percentage of posts that have recommended tags in the test set, with a threshold of 0.012: 63\n",
      "--------------------------------------\n",
      "Average number of tags in the test set, with a threshold of 0.013: 1.07\n",
      "Median number of tags in the test set, with a threshold of 0.013: 1\n",
      "Percentage of posts that have recommended tags in the test set, with a threshold of 0.013: 55\n",
      "--------------------------------------\n"
     ]
    }
   ],
   "source": [
    "tag_med = np.median(df['Tags'].apply(lambda x: len(x)))\n",
    "tag_mean = np.mean(df['Tags'].apply(lambda x: len(x)))\n",
    "print('Average number of tags in the training set: %.2f' % tag_mean)\n",
    "print('Median number of tags in the training set: ', tag_med)\n",
    "print('--------------------------------------')\n",
    "\n",
    "for threshold in dataframe_lda_tt.columns:\n",
    "    print('Average number of tags in the test set, with a threshold of %s: %.2f' \n",
    "          % (threshold, np.mean(dataframe_lda_tt[threshold].apply(lambda x: len(x)))))\n",
    "    print('Median number of tags in the test set, with a threshold of %s: %d' %\n",
    "          (threshold, np.median(dataframe_lda_tt[threshold].apply(lambda x: len(x)))))\n",
    "    print('Percentage of posts that have recommended tags in the test set, with a threshold of %s: %d' %\n",
    "          (threshold, np.sum(dataframe_lda_tt[threshold].apply\n",
    "                             (lambda x: 1 if len(x)!=0 else 0))*100/dataframe_lda_tt.shape[0]))\n",
    "    print('--------------------------------------')"
   ]
  },
  {
   "cell_type": "code",
   "execution_count": 61,
   "metadata": {},
   "outputs": [],
   "source": [
    "def tags_lda_test(X_tfidf_test, X_train):\n",
    "    dataframe_lda_tt = pd.DataFrame(index=[i for i in range(X_tfidf_test.shape[0])], \n",
    "             columns=['Tags_test'])\n",
    "    corpus = X_tfidf_test\n",
    "    list_results = []\n",
    "    topics_num = 10\n",
    "    threshold = 0.010\n",
    "\n",
    "    string_vectorizer = TfidfVectorizer(analyzer='word', min_df=0.0, max_df = 1.0, \n",
    "                                    strip_accents = None, encoding = 'utf-8', \n",
    "                                    preprocessor=None, \n",
    "                                    token_pattern=r\"(?u)\\S\\S+\", \n",
    "                                    max_features=1000)\n",
    "    X_tfidf_train = string_vectorizer.fit_transform(X_train)\n",
    "    lda_model = LatentDirichletAllocation(n_components=topics_num, max_iter=5,\n",
    "                                        learning_method='online',\n",
    "                                        learning_offset=50.,\n",
    "                                        random_state=0).fit(X_tfidf_train)\n",
    "    corpus_projection = lda_model.transform(corpus)\n",
    "    feature_names = string_vectorizer.get_feature_names()\n",
    "    ldaElement = lda_model.components_ / lda_model.components_.sum(axis=1)[:, np.newaxis] \n",
    "    for text in range(corpus.shape[0]):\n",
    "        list_scores = []\n",
    "        list_words = []\n",
    "\n",
    "        for topic in range(topics_num):\n",
    "            topic_score = corpus_projection[text][topic]\n",
    "\n",
    "            for (word_idx, word_score) in zip(ldaElement[topic].argsort()[:-5:-1], sorted(ldaElement[topic])[:-5:-1]):\n",
    "                score = topic_score*word_score\n",
    "\n",
    "                if score >= threshold:\n",
    "                    list_scores.append(score)\n",
    "                    list_words.append(feature_names[word_idx])\n",
    "\n",
    "        results = [tag for (y,tag) in sorted(zip(list_scores,list_words),\n",
    "                                             key=lambda pair: pair[0], reverse=True)][:5] \n",
    "        list_results.append(results)\n",
    "    \n",
    "    tag_prediction_lda = pd.DataFrame({'tags':list_results})\n",
    "\n",
    "    return tag_prediction_lda"
   ]
  },
  {
   "cell_type": "code",
   "execution_count": 62,
   "metadata": {},
   "outputs": [],
   "source": [
    "def avg_jaccard(y_true,tag_prediction):\n",
    "    jacard = np.minimum(y_true,tag_prediction).sum(axis=1) / np.maximum(y_true,tag_prediction).sum(axis=1)\n",
    "    \n",
    "    return jacard.mean()*100"
   ]
  },
  {
   "cell_type": "markdown",
   "metadata": {},
   "source": [
    "### using one vs all machine learining model to train"
   ]
  },
  {
   "cell_type": "code",
   "execution_count": 63,
   "metadata": {},
   "outputs": [
    {
     "name": "stdout",
     "output_type": "stream",
     "text": [
      "Jaccard score in percentage for Dummy Classifier: 0.38 \n"
     ]
    }
   ],
   "source": [
    "OvR_Class = OneVsRestClassifier(DummyClassifier(random_state=0))\n",
    "OvR_Class.fit(X_tfidf_train, y_train)\n",
    "tag_prediction = OvR_Class.predict(X_tfidf_test)\n",
    "jaccard = avg_jaccard(y_test, tag_prediction)\n",
    "print('Jaccard score in percentage for Dummy Classifier: %.2f ' % jaccard)"
   ]
  },
  {
   "cell_type": "code",
   "execution_count": 64,
   "metadata": {},
   "outputs": [
    {
     "name": "stdout",
     "output_type": "stream",
     "text": [
      "Jaccard score in percentage for LDA recommender system: 0.93 \n"
     ]
    }
   ],
   "source": [
    "tag_prediction = tags_lda_test(X_tfidf_test, X_train)\n",
    "tag_prediction = multilabel_binarizer.transform(tag_prediction['tags'])\n",
    "jaccard_score(y_test, tag_prediction, average='samples')\n",
    "jaccard = avg_jaccard(y_test, tag_prediction)\n",
    "print('Jaccard score in percentage for LDA recommender system: %.2f ' % jaccard)"
   ]
  },
  {
   "cell_type": "code",
   "execution_count": 66,
   "metadata": {},
   "outputs": [
    {
     "name": "stdout",
     "output_type": "stream",
     "text": [
      "Ask a question: linq query web service usually business tier return transport linq query way linq query result linq query alternatively linq query serializable expose web service\n",
      "Recommended tags are: table database node\n"
     ]
    }
   ],
   "source": [
    "Question = input('Ask a question: ')\n",
    "tags = Recommend_tags_lda(Question, X_train)\n",
    "print('Recommended tags are:', tags)"
   ]
  },
  {
   "cell_type": "markdown",
   "metadata": {},
   "source": [
    "### Classification using OneVsRestClassifier with Linear SVC"
   ]
  },
  {
   "cell_type": "code",
   "execution_count": 67,
   "metadata": {},
   "outputs": [
    {
     "name": "stdout",
     "output_type": "stream",
     "text": [
      "Best hyperparameters on the training set: {'estimator__C': 10.0}\n",
      "jaccard score : 19.1210\n"
     ]
    },
    {
     "data": {
      "text/plain": [
       "array([<matplotlib.axes._subplots.AxesSubplot object at 0x000001F871310550>,\n",
       "       <matplotlib.axes._subplots.AxesSubplot object at 0x000001F86C8F5B70>],\n",
       "      dtype=object)"
      ]
     },
     "execution_count": 67,
     "metadata": {},
     "output_type": "execute_result"
    },
    {
     "data": {
      "image/png": "[encoded data removed]",
      "text/plain": [
       "<Figure size 720x720 with 2 Axes>"
      ]
     },
     "metadata": {
      "needs_background": "light"
     },
     "output_type": "display_data"
    }
   ],
   "source": [
    "clf_svc = OneVsRestClassifier(LinearSVC(random_state=0))\n",
    "param_grid = {'estimator__C':np.logspace(-2, 2, 5)}\n",
    "\n",
    "inner_cv = KFold(n_splits=5, shuffle=True, random_state=0)\n",
    "outer_cv = KFold(n_splits=5, shuffle=True, random_state=0)\n",
    "clf_svc_gs = GridSearchCV(clf_svc, param_grid, cv=inner_cv,\n",
    "                            scoring=make_scorer(avg_jaccard,greater_is_better=True))\n",
    "clf_svc_gs.fit(X_tfidf_train, y_train)\n",
    "nested_score = cross_val_score(clf_svc_gs, X=X_tfidf_train, y=y_train, cv=outer_cv)\n",
    "\n",
    "print(\"Best hyperparameters on the training set:\",\n",
    "      clf_svc_gs.best_params_)\n",
    "print(\"jaccard score : %.4f\" % nested_score.mean())\n",
    "    \n",
    "clf_svc_gs_df=pd.DataFrame(np.transpose([clf_svc_gs.cv_results_['mean_test_score'],\n",
    "                                     clf_svc_gs.cv_results_['param_estimator__C'].data]),\n",
    "                           columns=['score', 'C'])\n",
    "clf_svc_gs_df.plot(subplots=True,figsize=(10, 10))"
   ]
  },
  {
   "cell_type": "code",
   "execution_count": 68,
   "metadata": {},
   "outputs": [
    {
     "data": {
      "text/plain": [
       "OneVsRestClassifier(estimator=LinearSVC(random_state=0))"
      ]
     },
     "execution_count": 68,
     "metadata": {},
     "output_type": "execute_result"
    }
   ],
   "source": [
    "clf_svc_gs = OneVsRestClassifier(LinearSVC(random_state=0, C=1.0))\n",
    "clf_svc_gs.fit(X_tfidf_train, y_train)"
   ]
  },
  {
   "cell_type": "code",
   "execution_count": 69,
   "metadata": {},
   "outputs": [
    {
     "data": {
      "text/plain": [
       "OneVsRestClassifier(estimator=LinearSVC(random_state=0))"
      ]
     },
     "execution_count": 69,
     "metadata": {},
     "output_type": "execute_result"
    }
   ],
   "source": [
    "clf_svc_gs = OneVsRestClassifier(LinearSVC(random_state=0, C=1.0))\n",
    "clf_svc_gs.fit(X_tfidf_train, y_train)"
   ]
  },
  {
   "cell_type": "markdown",
   "metadata": {},
   "source": [
    "### Neural Network"
   ]
  },
  {
   "cell_type": "code",
   "execution_count": 72,
   "metadata": {},
   "outputs": [],
   "source": [
    "from tensorflow.keras import Sequential\n",
    "from tensorflow.keras.layers import Dense"
   ]
  },
  {
   "cell_type": "code",
   "execution_count": 118,
   "metadata": {},
   "outputs": [
    {
     "name": "stdout",
     "output_type": "stream",
     "text": [
      "Epoch 1/4\n",
      "23290/23290 [==============================] - 1s 63us/sample - loss: 14.2708 - acc: 0.0330\n",
      "Epoch 2/4\n",
      "23290/23290 [==============================] - 1s 41us/sample - loss: 13.9348 - acc: 0.0755\n",
      "Epoch 3/4\n",
      "23290/23290 [==============================] - 1s 40us/sample - loss: 13.3907 - acc: 0.0812\n",
      "Epoch 4/4\n",
      "23290/23290 [==============================] - 1s 42us/sample - loss: 12.9005 - acc: 0.0745\n"
     ]
    },
    {
     "data": {
      "text/plain": [
       "<tensorflow.python.keras.callbacks.History at 0x1f906bc7ef0>"
      ]
     },
     "execution_count": 118,
     "metadata": {},
     "output_type": "execute_result"
    }
   ],
   "source": [
    "model = Sequential()\n",
    "model.add(Dense(600, activation='relu', input_shape=(1000,)))\n",
    "model.add(Dense(400, activation='softmax'))\n",
    "model.compile(optimizer='adam', loss='categorical_crossentropy', metrics=['accuracy'])\n",
    "model.fit(X_2gram_tfidf_train, y_train, epochs=4, batch_size=2048)"
   ]
  }
 ],
 "metadata": {
  "kernelspec": {
   "display_name": "Python 3",
   "language": "python",
   "name": "python3"
  },
  "language_info": {
   "codemirror_mode": {
    "name": "ipython",
    "version": 3
   },
   "file_extension": ".py",
   "mimetype": "text/x-python",
   "name": "python",
   "nbconvert_exporter": "python",
   "pygments_lexer": "ipython3",
   "version": "3.8.8"
  }
 },
 "nbformat": 4,
 "nbformat_minor": 2
}
